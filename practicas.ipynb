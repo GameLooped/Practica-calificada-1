{
  "nbformat": 4,
  "nbformat_minor": 0,
  "metadata": {
    "colab": {
      "provenance": [],
      "authorship_tag": "ABX9TyMbhbFsoQs/5V8HN6opI5pF",
      "include_colab_link": true
    },
    "kernelspec": {
      "name": "python3",
      "display_name": "Python 3"
    },
    "language_info": {
      "name": "python"
    }
  },
  "cells": [
    {
      "cell_type": "markdown",
      "metadata": {
        "id": "view-in-github",
        "colab_type": "text"
      },
      "source": [
        "<a href=\"https://colab.research.google.com/github/GameLooped/Practica-calificada-1/blob/main/practicas.ipynb\" target=\"_parent\"><img src=\"https://colab.research.google.com/assets/colab-badge.svg\" alt=\"Open In Colab\"/></a>"
      ]
    },
    {
      "cell_type": "markdown",
      "source": [
        "1. Resolver con numpy los siguientes casos:"
      ],
      "metadata": {
        "id": "xzp0ICy6grVP"
      }
    },
    {
      "cell_type": "code",
      "source": [
        "#Crea un vector de números enteros del 1 al 20.\n",
        "import numpy as np\n",
        "vector = np.arange(1, 21)\n",
        "print(vector)"
      ],
      "metadata": {
        "colab": {
          "base_uri": "https://localhost:8080/"
        },
        "id": "Ndg6_dsrgWwY",
        "outputId": "c63416b1-d398-4bed-a1a3-28ce9864da03"
      },
      "execution_count": null,
      "outputs": [
        {
          "output_type": "stream",
          "name": "stdout",
          "text": [
            "[ 1  2  3  4  5  6  7  8  9 10 11 12 13 14 15 16 17 18 19 20]\n"
          ]
        }
      ]
    },
    {
      "cell_type": "code",
      "source": [
        "#Crea una matriz de 3x3 con valores aleatorios entre 0 y 1.\n",
        "matriz = np.random.rand(3, 3)\n",
        "print(matriz)"
      ],
      "metadata": {
        "colab": {
          "base_uri": "https://localhost:8080/"
        },
        "id": "QJLZXar6gc7v",
        "outputId": "fdb04738-f4af-44a9-f57a-b7774762ee59"
      },
      "execution_count": null,
      "outputs": [
        {
          "output_type": "stream",
          "name": "stdout",
          "text": [
            "[[0.06339827 0.26372424 0.24491961]\n",
            " [0.53502901 0.48232067 0.55957145]\n",
            " [0.11573711 0.85313904 0.69852608]]\n"
          ]
        }
      ]
    },
    {
      "cell_type": "code",
      "source": [
        "#Redimensiona una matriz de 4x4 a una matriz de 2x8.\n",
        "matriz = np.random.rand(4, 4)\n",
        "matriz_redimensionada = matriz.reshape(2, 8)\n",
        "print(matriz_redimensionada)"
      ],
      "metadata": {
        "colab": {
          "base_uri": "https://localhost:8080/"
        },
        "id": "IqERnBb7ge6w",
        "outputId": "1f6a6062-d413-4886-ca6b-99a7c5104eae"
      },
      "execution_count": null,
      "outputs": [
        {
          "output_type": "stream",
          "name": "stdout",
          "text": [
            "[[0.3480351  0.52386265 0.92221516 0.34463798 0.20360751 0.5047224\n",
            "  0.21364268 0.34561425]\n",
            " [0.12543518 0.99205463 0.30482421 0.87693605 0.43337379 0.10630325\n",
            "  0.92475588 0.57396767]]\n"
          ]
        }
      ]
    },
    {
      "cell_type": "code",
      "source": [
        "#Crea un array de 10 números equidistantes entre 0 y 1.\n",
        "array = np.linspace(0, 1, 10)\n",
        "print(array)"
      ],
      "metadata": {
        "colab": {
          "base_uri": "https://localhost:8080/"
        },
        "id": "WHl15ExUgfOI",
        "outputId": "3df43122-c0b8-494f-c6f3-babf62dc424f"
      },
      "execution_count": null,
      "outputs": [
        {
          "output_type": "stream",
          "name": "stdout",
          "text": [
            "[0.         0.11111111 0.22222222 0.33333333 0.44444444 0.55555556\n",
            " 0.66666667 0.77777778 0.88888889 1.        ]\n"
          ]
        }
      ]
    },
    {
      "cell_type": "code",
      "source": [
        "#Concatena dos vectores vertical y horizontalmente. (concatenate)\n",
        "a = np.array([1, 2, 3])\n",
        "b = np.array([4, 5, 6])\n",
        "horizontal = np.concatenate((a, b))\n",
        "print(\"Concatenación horizontal:\")\n",
        "print(horizontal)\n",
        "\n",
        "ab = a.reshape(-1, 1)\n",
        "ba = b.reshape(-1, 1)\n",
        "\n",
        "vertical = np.concatenate((ab, ba), axis=0)\n",
        "print(\"\\nConcatenación vertical:\")\n",
        "print(vertical)"
      ],
      "metadata": {
        "colab": {
          "base_uri": "https://localhost:8080/"
        },
        "id": "yEBnIcNNjIWu",
        "outputId": "2c6c3f53-fc6b-47b6-bac6-c4ab40a79790"
      },
      "execution_count": null,
      "outputs": [
        {
          "output_type": "stream",
          "name": "stdout",
          "text": [
            "Concatenación horizontal:\n",
            "[1 2 3 4 5 6]\n",
            "\n",
            "Concatenación vertical:\n",
            "[[1]\n",
            " [2]\n",
            " [3]\n",
            " [4]\n",
            " [5]\n",
            " [6]]\n"
          ]
        }
      ]
    },
    {
      "cell_type": "markdown",
      "source": [
        "2. Resolver las siguientes operaciones:"
      ],
      "metadata": {
        "id": "ue4ZbC1AkV8l"
      }
    },
    {
      "cell_type": "code",
      "source": [
        "#Calcula la suma, resta, multiplicación y división de dos vectores.\n",
        "suma = a + b\n",
        "resta = a - b\n",
        "multiplicacion = a * b\n",
        "division = a / b\n",
        "print(\"Suma:\", suma)\n",
        "print(\"Resta:\", resta)\n",
        "print(\"Multiplicación:\", multiplicacion)\n",
        "print(\"División:\", division)"
      ],
      "metadata": {
        "colab": {
          "base_uri": "https://localhost:8080/"
        },
        "id": "Rcu4-WwOkYnN",
        "outputId": "be1daa60-16b3-4d16-bd1c-cb3e9bc7663f"
      },
      "execution_count": null,
      "outputs": [
        {
          "output_type": "stream",
          "name": "stdout",
          "text": [
            "Suma: [5 7 9]\n",
            "Resta: [-3 -3 -3]\n",
            "Multiplicación: [ 4 10 18]\n",
            "División: [0.25 0.4  0.5 ]\n"
          ]
        }
      ]
    },
    {
      "cell_type": "code",
      "source": [
        "#Calcula la media, mediana y desviación estándar de un vector.\n",
        "media = np.mean(a)\n",
        "mediana = np.median(a)\n",
        "desviacion = np.std(a)\n",
        "print(\"Media:\", media)\n",
        "print(\"Mediana:\", mediana)\n",
        "print(\"Desviación estándar:\", desviacion)"
      ],
      "metadata": {
        "colab": {
          "base_uri": "https://localhost:8080/"
        },
        "id": "URTrgoHPkZPc",
        "outputId": "7ed259c9-0edb-4166-c607-0933751a84ee"
      },
      "execution_count": null,
      "outputs": [
        {
          "output_type": "stream",
          "name": "stdout",
          "text": [
            "Media: 2.0\n",
            "Mediana: 2.0\n",
            "Desviación estándar: 0.816496580927726\n"
          ]
        }
      ]
    },
    {
      "cell_type": "code",
      "source": [
        "#Normaliza un vector dividiendo cada elemento por el valor máximo.\n",
        "vector_normalizado = a / np.max(a)\n",
        "print(\"Vector normalizado:\")\n",
        "print(vector_normalizado)"
      ],
      "metadata": {
        "colab": {
          "base_uri": "https://localhost:8080/"
        },
        "id": "8rbawKEpkZY1",
        "outputId": "82ef7518-38a8-425c-fa51-a790ba523edc"
      },
      "execution_count": null,
      "outputs": [
        {
          "output_type": "stream",
          "name": "stdout",
          "text": [
            "Vector normalizado:\n",
            "[0.33333333 0.66666667 1.        ]\n"
          ]
        }
      ]
    },
    {
      "cell_type": "code",
      "source": [
        "#Encuentra el índice del valor máximo y mínimo en un vector.\n",
        "maximo = np.argmax(a)\n",
        "minimo = np.argmin(a)\n",
        "print(\"Índice del valor máximo:\", maximo)\n",
        "print(\"Índice del valor mínimo:\", minimo)"
      ],
      "metadata": {
        "colab": {
          "base_uri": "https://localhost:8080/"
        },
        "id": "FFn8YrewkZh8",
        "outputId": "cf4e767b-fbfa-4fbf-96ec-30ffdfa1ea11"
      },
      "execution_count": null,
      "outputs": [
        {
          "output_type": "stream",
          "name": "stdout",
          "text": [
            "Índice del valor máximo: 2\n",
            "Índice del valor mínimo: 0\n"
          ]
        }
      ]
    },
    {
      "cell_type": "code",
      "source": [
        "#Realiza una multiplicación matricial entre dos matrices 3x3.\n",
        "matriz1 = np.random.rand(3, 3)\n",
        "matriz2 = np.random.rand(3, 3)\n",
        "multiplicacion = np.dot(a, b)\n",
        "print(\"Matriz 1:\")\n",
        "print(a)\n",
        "print(\"\\nMatriz 2:\")\n",
        "print(b)\n",
        "print(\"\\nResultado de la multiplicación matricial:\")\n",
        "print(multiplicacion)"
      ],
      "metadata": {
        "colab": {
          "base_uri": "https://localhost:8080/"
        },
        "id": "OWdlm7obkZqU",
        "outputId": "9453c15f-0368-44cb-c883-b88868e92043"
      },
      "execution_count": null,
      "outputs": [
        {
          "output_type": "stream",
          "name": "stdout",
          "text": [
            "Matriz 1:\n",
            "[1 2 3]\n",
            "\n",
            "Matriz 2:\n",
            "[4 5 6]\n",
            "\n",
            "Resultado de la multiplicación matricial:\n",
            "32\n"
          ]
        }
      ]
    },
    {
      "cell_type": "markdown",
      "source": [
        "3. Resolver con numpy los siguientes casos:"
      ],
      "metadata": {
        "id": "FXbfVzDRmNzk"
      }
    },
    {
      "cell_type": "code",
      "source": [
        "#Selecciona los elementos pares de un vector de números enteros.\n",
        "vector1 = np.array([1, 2, 3, 4, 5, 6, 7, 8, 9, 10])\n",
        "pares = vector1[vector1 % 2 == 0]\n",
        "print(pares)"
      ],
      "metadata": {
        "colab": {
          "base_uri": "https://localhost:8080/"
        },
        "id": "w_85NkaWmP5M",
        "outputId": "7a793d90-6112-4e33-8867-fedce3271f72"
      },
      "execution_count": null,
      "outputs": [
        {
          "output_type": "stream",
          "name": "stdout",
          "text": [
            "[ 2  4  6  8 10]\n"
          ]
        }
      ]
    },
    {
      "cell_type": "code",
      "source": [
        "#Filtra los valores mayores que 5 en un vector\n",
        "vector2 = np.array([1, 2, 3, 4, 5, 6, 7, 8, 9, 10])\n",
        "mayores = vector2[vector2 > 5]\n",
        "print(mayores)"
      ],
      "metadata": {
        "colab": {
          "base_uri": "https://localhost:8080/"
        },
        "id": "0EWQGMg8mQHt",
        "outputId": "a581ef8e-4d7a-4240-cac5-e99d982a27b3"
      },
      "execution_count": null,
      "outputs": [
        {
          "output_type": "stream",
          "name": "stdout",
          "text": [
            "[ 6  7  8  9 10]\n"
          ]
        }
      ]
    },
    {
      "cell_type": "code",
      "source": [
        "#Filtra los valores iguales a cero\n",
        "vector3 = np.array([0, 1, 2, 3, 4, 5, 6, 7, 8, 9, 10])\n",
        "cero = vector3[vector3 == 0]\n",
        "print(cero)"
      ],
      "metadata": {
        "colab": {
          "base_uri": "https://localhost:8080/"
        },
        "id": "zGLwIuXKmQUM",
        "outputId": "e22fb335-d452-43a7-840c-4199c942e858"
      },
      "execution_count": null,
      "outputs": [
        {
          "output_type": "stream",
          "name": "stdout",
          "text": [
            "[0]\n"
          ]
        }
      ]
    },
    {
      "cell_type": "code",
      "source": [
        "#Filtra los valores negativos\n",
        "vector4 = np.array([-1, 2, -3, 4, 5, 6, -7, 8, -9, 10])\n",
        "negativos = vector4[vector4 < 0]\n",
        "print(negativos)"
      ],
      "metadata": {
        "colab": {
          "base_uri": "https://localhost:8080/"
        },
        "id": "od2W6eAXmQfr",
        "outputId": "fc3ddfff-7606-4da3-cf40-c08074d8a9e5"
      },
      "execution_count": null,
      "outputs": [
        {
          "output_type": "stream",
          "name": "stdout",
          "text": [
            "[-1 -3 -7 -9]\n"
          ]
        }
      ]
    },
    {
      "cell_type": "code",
      "source": [
        "#Aplicar la media a los valores mayores de 50.\n",
        "vector5 = np.array([1, 2, 3, 4, 5, 6, 7, 8, 9, 10, 50, 100, 56, 70])\n",
        "mean = np.mean(vector5)\n",
        "vector5[vector5 > 50] = mean\n",
        "print(vector5)"
      ],
      "metadata": {
        "colab": {
          "base_uri": "https://localhost:8080/"
        },
        "id": "JeSp0_IDmQrs",
        "outputId": "064093cb-ae6e-406e-e79a-fc00481ba8cf"
      },
      "execution_count": null,
      "outputs": [
        {
          "output_type": "stream",
          "name": "stdout",
          "text": [
            "[ 1  2  3  4  5  6  7  8  9 10 50 23 23 23]\n"
          ]
        }
      ]
    },
    {
      "cell_type": "markdown",
      "source": [
        "4. Resolver con numpy los siguientes casos:"
      ],
      "metadata": {
        "id": "YqsZ2jjDncHz"
      }
    },
    {
      "cell_type": "code",
      "source": [
        "#Crea un vector de 10 elementos y reemplaza todos los valores mayores que 5 con 0.\n",
        "vector6 = np.array([1, 2, 3, 4, 5, 6, 7, 8, 9, 10])\n",
        "vector6[vector6 > 5] = 0\n",
        "print(vector6)"
      ],
      "metadata": {
        "colab": {
          "base_uri": "https://localhost:8080/"
        },
        "id": "G98kqrignelD",
        "outputId": "aa106a85-8413-49b6-c419-f1c8f2204688"
      },
      "execution_count": null,
      "outputs": [
        {
          "output_type": "stream",
          "name": "stdout",
          "text": [
            "[1 2 3 4 5 0 0 0 0 0]\n"
          ]
        }
      ]
    },
    {
      "cell_type": "code",
      "source": [
        "#Combina dos vectores booleanos utilizando las operaciones & (AND) y | (OR).\n",
        "vector7 = np.array([True, False, True, False, True])\n",
        "vector8 = np.array([False, False, True, True, False])\n",
        "and_result = vector7 & vector8\n",
        "or_result = vector7 | vector8\n",
        "print(\"AND:\", and_result)\n",
        "print(\"OR:\", or_result)\n"
      ],
      "metadata": {
        "colab": {
          "base_uri": "https://localhost:8080/"
        },
        "id": "RhGLx-JmneyL",
        "outputId": "4bac829e-7311-4f65-bd04-624b6570f90e"
      },
      "execution_count": null,
      "outputs": [
        {
          "output_type": "stream",
          "name": "stdout",
          "text": [
            "AND: [False False  True False False]\n",
            "OR: [ True False  True  True  True]\n"
          ]
        }
      ]
    },
    {
      "cell_type": "code",
      "source": [
        "#Cuenta la cantidad de valores en un vector que son múltiplos de 3.\n",
        "vector9 = np.array([1, 2, 3, 4, 5, 6, 7, 8, 9, 10])\n",
        "multiplos = vector9[vector9 % 3 == 0]\n",
        "print(multiplos)"
      ],
      "metadata": {
        "colab": {
          "base_uri": "https://localhost:8080/"
        },
        "id": "nlzgLpVIne7r",
        "outputId": "71fc25f6-b6eb-4bbc-9d17-60875f269eee"
      },
      "execution_count": null,
      "outputs": [
        {
          "output_type": "stream",
          "name": "stdout",
          "text": [
            "[3 6 9]\n"
          ]
        }
      ]
    },
    {
      "cell_type": "code",
      "source": [
        "#Encuentra los índices de los elementos no nulos en un vector. (np.nonzero)\n",
        "vector10 = np.array([1, 0, 3, 0, 5, 0, 7, 0, 9, 0])\n",
        "indices = np.nonzero(vector10)\n",
        "print(indices)"
      ],
      "metadata": {
        "colab": {
          "base_uri": "https://localhost:8080/"
        },
        "id": "VfGiqTfanfFj",
        "outputId": "de547d72-a8d2-42c6-9550-ad0ce1bd8ec0"
      },
      "execution_count": null,
      "outputs": [
        {
          "output_type": "stream",
          "name": "stdout",
          "text": [
            "(array([0, 2, 4, 6, 8]),)\n"
          ]
        }
      ]
    },
    {
      "cell_type": "code",
      "source": [
        "#Comprueba si todos los elementos en un array son mayores que un valor específico digitado por el usuario.\n",
        "vector11 = np.array([1, 2, 3, 4, 5, 6, 7, 8, 9, 10])\n",
        "\n",
        "valor = float(input(\"Ingresa un valor para comparar: \"))\n",
        "resultado = np.all(vector11 > valor)\n",
        "if resultado:\n",
        "    print(f\"Todos los elementos son mayores que {valor}.\")\n",
        "else:\n",
        "    print(f\"No todos los elementos son mayores que {valor}.\")"
      ],
      "metadata": {
        "colab": {
          "base_uri": "https://localhost:8080/"
        },
        "id": "298BH8B8nfM7",
        "outputId": "92425dca-8590-42e0-8dcc-ea294d3b8cac"
      },
      "execution_count": null,
      "outputs": [
        {
          "output_type": "stream",
          "name": "stdout",
          "text": [
            "Ingresa un valor para comparar: 0\n",
            "Todos los elementos son mayores que 0.0.\n"
          ]
        }
      ]
    },
    {
      "cell_type": "markdown",
      "source": [
        "5. Resolver con numpy los siguientes casos:"
      ],
      "metadata": {
        "id": "k_fu0bPvo7oy"
      }
    },
    {
      "cell_type": "code",
      "source": [
        "#Calcula el cuadrado de cada elemento en un vector.\n",
        "vector12 = np.array([1, 2, 3, 4, 5, 6, 7, 8, 9, 10])\n",
        "cuadrado = np.square(vector12)\n",
        "print(cuadrado)"
      ],
      "metadata": {
        "colab": {
          "base_uri": "https://localhost:8080/"
        },
        "id": "BnGdBRX2o8mK",
        "outputId": "27490f26-c314-4997-e322-c2768bfebe55"
      },
      "execution_count": null,
      "outputs": [
        {
          "output_type": "stream",
          "name": "stdout",
          "text": [
            "[  1   4   9  16  25  36  49  64  81 100]\n"
          ]
        }
      ]
    },
    {
      "cell_type": "code",
      "source": [
        "#Utiliza la función exponencial para elevar todos los elementos de un vector a la misma potencia.\n",
        "vector13 = np.array([1, 2, 3, 4, 5, 6, 7, 8, 9, 10])\n",
        "potencia = np.exp(vector13)\n",
        "print(potencia)"
      ],
      "metadata": {
        "colab": {
          "base_uri": "https://localhost:8080/"
        },
        "id": "emy5lZeCo84B",
        "outputId": "77b8ae34-ea74-4a41-a749-b440ca8abfd3"
      },
      "execution_count": null,
      "outputs": [
        {
          "output_type": "stream",
          "name": "stdout",
          "text": [
            "[2.71828183e+00 7.38905610e+00 2.00855369e+01 5.45981500e+01\n",
            " 1.48413159e+02 4.03428793e+02 1.09663316e+03 2.98095799e+03\n",
            " 8.10308393e+03 2.20264658e+04]\n"
          ]
        }
      ]
    },
    {
      "cell_type": "code",
      "source": [
        "#Encuentra los valores máximos y mínimos en cada fila de una matriz.\n",
        "matriz14 = np.array([[1, 2, 3], [4, 5, 6], [7, 8, 9]])\n",
        "print(\"Matriz:\")\n",
        "print(matriz14)\n",
        "maximos = np.max(matriz14, axis=1)\n",
        "minimos = np.min(matriz14, axis=1)\n",
        "print(\"Máximos por fila:\", maximos)\n",
        "print(\"Mínimos por fila:\", minimos)\n"
      ],
      "metadata": {
        "colab": {
          "base_uri": "https://localhost:8080/"
        },
        "id": "o1aA5G9po9AK",
        "outputId": "498443a4-a1a8-447b-d86d-a87b43d0ea99"
      },
      "execution_count": null,
      "outputs": [
        {
          "output_type": "stream",
          "name": "stdout",
          "text": [
            "Matriz:\n",
            "[[1 2 3]\n",
            " [4 5 6]\n",
            " [7 8 9]]\n",
            "Máximos por fila: [3 6 9]\n",
            "Mínimos por fila: [1 4 7]\n"
          ]
        }
      ]
    },
    {
      "cell_type": "code",
      "source": [
        "#Aplica la función sin a todos los elementos de un vector y almacena los resultados en otro vector.\n",
        "vector15 = np.array([0, 30, 45, 60, 90])\n",
        "seno = np.sin(np.deg2rad(vector15))\n",
        "print(seno)\n"
      ],
      "metadata": {
        "colab": {
          "base_uri": "https://localhost:8080/"
        },
        "id": "sQ9-Jrsno9IZ",
        "outputId": "bd3396f9-04cd-4204-d9b0-77b3a338dd82"
      },
      "execution_count": null,
      "outputs": [
        {
          "output_type": "stream",
          "name": "stdout",
          "text": [
            "[0.         0.5        0.70710678 0.8660254  1.        ]\n"
          ]
        }
      ]
    },
    {
      "cell_type": "code",
      "source": [
        "#Realiza la transpuesta de una matriz 3x4.\n",
        "matriz = np.array([\n",
        "    [1, 2, 3, 4],\n",
        "    [5, 6, 7, 8],\n",
        "    [9, 10, 11, 12]\n",
        "])\n",
        "transpuesta = matriz.T\n",
        "print(\"Matriz original:\")\n",
        "print(matriz)\n",
        "print(\"Matriz transpuesta:\")\n",
        "print(transpuesta)\n"
      ],
      "metadata": {
        "colab": {
          "base_uri": "https://localhost:8080/"
        },
        "id": "cE-uehXLo9QC",
        "outputId": "61b05383-c018-45a4-9ed4-5e6433580b84"
      },
      "execution_count": null,
      "outputs": [
        {
          "output_type": "stream",
          "name": "stdout",
          "text": [
            "Matriz original:\n",
            "[[ 1  2  3  4]\n",
            " [ 5  6  7  8]\n",
            " [ 9 10 11 12]]\n",
            "Matriz transpuesta:\n",
            "[[ 1  5  9]\n",
            " [ 2  6 10]\n",
            " [ 3  7 11]\n",
            " [ 4  8 12]]\n"
          ]
        }
      ]
    },
    {
      "cell_type": "markdown",
      "source": [
        "6. Crea un DataFrame con las siguientes columnas: 'Nombre', 'Edad', 'Ciudad'.\n",
        "Añade al menos 10 registros."
      ],
      "metadata": {
        "id": "wyp82yWFq1R6"
      }
    },
    {
      "cell_type": "code",
      "source": [
        "import pandas as pd\n",
        "data = {\n",
        "    'Nombre': ['Ana', 'Luis', 'Carlos', 'Marta', 'Sofía', 'Juan', 'Laura', 'Diego', 'Elena', 'Miguel'],\n",
        "    'Edad': [28, 34, 23, 45, 30, 27, 22, 36, 40, 31],\n",
        "    'Ciudad': ['Huancayo', 'Lima', 'Huancayo', 'Arequipa', 'trujillo', 'La Merced', 'Chanchamayo', 'Mazamari', 'Tumbes', 'Satipo']\n",
        "}\n",
        "df = pd.DataFrame(data)\n",
        "print(df)"
      ],
      "metadata": {
        "colab": {
          "base_uri": "https://localhost:8080/"
        },
        "id": "ICM7yd3rrPUC",
        "outputId": "6321ed71-7acd-40cc-d43c-8d878cba44a9"
      },
      "execution_count": null,
      "outputs": [
        {
          "output_type": "stream",
          "name": "stdout",
          "text": [
            "   Nombre  Edad       Ciudad\n",
            "0     Ana    28     Huancayo\n",
            "1    Luis    34         Lima\n",
            "2  Carlos    23     Huancayo\n",
            "3   Marta    45     Arequipa\n",
            "4   Sofía    30     trujillo\n",
            "5    Juan    27    La Merced\n",
            "6   Laura    22  Chanchamayo\n",
            "7   Diego    36     Mazamari\n",
            "8   Elena    40       Tumbes\n",
            "9  Miguel    31       Satipo\n"
          ]
        }
      ]
    },
    {
      "cell_type": "code",
      "source": [
        "#Del DataFrame creado, filtra a las personas que tienen más de 25 años.\n",
        "edad = df[df['Edad'] > 25]\n",
        "print(edad)"
      ],
      "metadata": {
        "colab": {
          "base_uri": "https://localhost:8080/"
        },
        "id": "NGYI79KGq2Gp",
        "outputId": "9ab25859-a5be-4b77-b36d-4351e2723e68"
      },
      "execution_count": null,
      "outputs": [
        {
          "output_type": "stream",
          "name": "stdout",
          "text": [
            "   Nombre  Edad     Ciudad\n",
            "0     Ana    28   Huancayo\n",
            "1    Luis    34       Lima\n",
            "3   Marta    45   Arequipa\n",
            "4   Sofía    30   trujillo\n",
            "5    Juan    27  La Merced\n",
            "7   Diego    36   Mazamari\n",
            "8   Elena    40     Tumbes\n",
            "9  Miguel    31     Satipo\n"
          ]
        }
      ]
    },
    {
      "cell_type": "code",
      "source": [
        "#A tu DataFrame, añade una nueva columna llamada 'Ingresos', rellenala con cualquier valor.\n",
        "df['Ingresos'] = [1000, 2000, 1500, 3000, 2500, 1800, 2200, 2800, 3200, 2700]\n",
        "print(df)"
      ],
      "metadata": {
        "colab": {
          "base_uri": "https://localhost:8080/"
        },
        "id": "f1WhNrsOq2WQ",
        "outputId": "c221f85e-d6c2-4339-85e2-eaee9d7cb5bf"
      },
      "execution_count": null,
      "outputs": [
        {
          "output_type": "stream",
          "name": "stdout",
          "text": [
            "   Nombre  Edad       Ciudad  Ingresos\n",
            "0     Ana    28     Huancayo      1000\n",
            "1    Luis    34         Lima      2000\n",
            "2  Carlos    23     Huancayo      1500\n",
            "3   Marta    45     Arequipa      3000\n",
            "4   Sofía    30     trujillo      2500\n",
            "5    Juan    27    La Merced      1800\n",
            "6   Laura    22  Chanchamayo      2200\n",
            "7   Diego    36     Mazamari      2800\n",
            "8   Elena    40       Tumbes      3200\n",
            "9  Miguel    31       Satipo      2700\n"
          ]
        }
      ]
    },
    {
      "cell_type": "code",
      "source": [
        "#Encuentra el promedio de la edad en tu DataFrame.\n",
        "promedio_edad = df['Edad'].mean()\n",
        "print(promedio_edad)"
      ],
      "metadata": {
        "colab": {
          "base_uri": "https://localhost:8080/"
        },
        "id": "EUvoaTkVq2fJ",
        "outputId": "df07dbdc-433a-4ed0-e892-129e1e6fa975"
      },
      "execution_count": null,
      "outputs": [
        {
          "output_type": "stream",
          "name": "stdout",
          "text": [
            "31.6\n"
          ]
        }
      ]
    },
    {
      "cell_type": "code",
      "source": [
        "#Cuenta cuántas veces aparece cada ciudad en tu DataFrame.\n",
        "ciudad = df['Ciudad'].value_counts()\n",
        "print(ciudad)"
      ],
      "metadata": {
        "colab": {
          "base_uri": "https://localhost:8080/"
        },
        "id": "0YHwuHODq2n4",
        "outputId": "177a5158-189c-4066-ba71-dafdaf055889"
      },
      "execution_count": null,
      "outputs": [
        {
          "output_type": "stream",
          "name": "stdout",
          "text": [
            "Ciudad\n",
            "Huancayo       2\n",
            "Lima           1\n",
            "Arequipa       1\n",
            "trujillo       1\n",
            "La Merced      1\n",
            "Chanchamayo    1\n",
            "Mazamari       1\n",
            "Tumbes         1\n",
            "Satipo         1\n",
            "Name: count, dtype: int64\n"
          ]
        }
      ]
    },
    {
      "cell_type": "code",
      "source": [
        "#Agrupa tu DataFrame por 'Ciudad' y calcula el promedio de 'Edad' para cada ciudad. (groupby)\n",
        "promedio_ciudad = df.groupby('Ciudad')['Edad'].mean()\n",
        "print(promedio_ciudad)"
      ],
      "metadata": {
        "colab": {
          "base_uri": "https://localhost:8080/"
        },
        "id": "8V_h-ijEq2ww",
        "outputId": "01d46eda-eb60-4afb-9192-e4224f807566"
      },
      "execution_count": null,
      "outputs": [
        {
          "output_type": "stream",
          "name": "stdout",
          "text": [
            "Ciudad\n",
            "Arequipa       45.0\n",
            "Chanchamayo    22.0\n",
            "Huancayo       25.5\n",
            "La Merced      27.0\n",
            "Lima           34.0\n",
            "Mazamari       36.0\n",
            "Satipo         31.0\n",
            "Tumbes         40.0\n",
            "trujillo       30.0\n",
            "Name: Edad, dtype: float64\n"
          ]
        }
      ]
    },
    {
      "cell_type": "code",
      "source": [
        "# Ordena tu DataFrame por 'Edad', de manera ascendente y luego descendente.\n",
        "df_ascendente = df.sort_values(by='Edad')\n",
        "df_descendente = df.sort_values(by='Edad', ascending=False)\n",
        "print(\"Ordenado de manera ascendente:\")\n",
        "print(df_ascendente)\n",
        "print(\"\\nOrdenado de manera descendente:\")\n",
        "print(df_descendente)"
      ],
      "metadata": {
        "colab": {
          "base_uri": "https://localhost:8080/"
        },
        "id": "ObFGGukLrHlR",
        "outputId": "c19ce4ef-f318-4930-a916-2a9635a145d2"
      },
      "execution_count": null,
      "outputs": [
        {
          "output_type": "stream",
          "name": "stdout",
          "text": [
            "Ordenado de manera ascendente:\n",
            "   Nombre  Edad       Ciudad  Ingresos\n",
            "6   Laura    22  Chanchamayo      2200\n",
            "2  Carlos    23     Huancayo      1500\n",
            "5    Juan    27    La Merced      1800\n",
            "0     Ana    28     Huancayo      1000\n",
            "4   Sofía    30     trujillo      2500\n",
            "9  Miguel    31       Satipo      2700\n",
            "1    Luis    34         Lima      2000\n",
            "7   Diego    36     Mazamari      2800\n",
            "8   Elena    40       Tumbes      3200\n",
            "3   Marta    45     Arequipa      3000\n",
            "\n",
            "Ordenado de manera descendente:\n",
            "   Nombre  Edad       Ciudad  Ingresos\n",
            "3   Marta    45     Arequipa      3000\n",
            "8   Elena    40       Tumbes      3200\n",
            "7   Diego    36     Mazamari      2800\n",
            "1    Luis    34         Lima      2000\n",
            "9  Miguel    31       Satipo      2700\n",
            "4   Sofía    30     trujillo      2500\n",
            "0     Ana    28     Huancayo      1000\n",
            "5    Juan    27    La Merced      1800\n",
            "2  Carlos    23     Huancayo      1500\n",
            "6   Laura    22  Chanchamayo      2200\n"
          ]
        }
      ]
    },
    {
      "cell_type": "markdown",
      "source": [
        "7. Del archivo adjunto realizar los siguientes filtros:"
      ],
      "metadata": {
        "id": "58gWk46Qs5ug"
      }
    },
    {
      "cell_type": "code",
      "source": [
        "df = pd.read_excel('/content/universidad.xlsx')\n",
        "df = pd.DataFrame(df)\n",
        "print(df)"
      ],
      "metadata": {
        "id": "L9_w6zFItHj_",
        "colab": {
          "base_uri": "https://localhost:8080/"
        },
        "outputId": "0b71b1a9-ff21-4943-dc9d-9870f77dceaa"
      },
      "execution_count": null,
      "outputs": [
        {
          "output_type": "stream",
          "name": "stdout",
          "text": [
            "   Num Control              Carrera  Semestre Inscripción  Id Persona\n",
            "0     SeNeTe01  Lic. en nutriología         7  2015-05-20           1\n",
            "1     JeViPi02         Ing. química         8  2015-05-02           2\n",
            "2     MaFeNú03      Lic. en derecho         6  2015-05-09           3\n",
            "3     WiVaLó04     Ing. en sistemas         2  2016-12-03           4\n",
            "4     BaRiDe05     Ing. mecatrónica        10  2018-12-01           5\n",
            "..         ...                  ...       ...         ...         ...\n",
            "95    StPeRu96  Lic. en nutriología         2  2015-12-15          96\n",
            "96    MaRaRí97      Lic. en derecho         7  2016-12-28          97\n",
            "97    NiBrPa98     Ing. mecatrónica         8  2015-05-14          98\n",
            "98    LiÁvSa99  Lic. en nutriología         4  2016-05-28          99\n",
            "99   MoNaBr100     Ing. mecatrónica         2  2018-05-11         100\n",
            "\n",
            "[100 rows x 5 columns]\n"
          ]
        }
      ]
    },
    {
      "cell_type": "code",
      "source": [
        "#Indicar cuantos son de la carrera de Ing. en sistemas\n",
        "df[df['Carrera'] == 'Ing. en sistemas']"
      ],
      "metadata": {
        "id": "M2XwaajGs6mH",
        "colab": {
          "base_uri": "https://localhost:8080/",
          "height": 457
        },
        "outputId": "b52a2d2a-c5ae-4dee-cb57-1c6ab219b0dd"
      },
      "execution_count": null,
      "outputs": [
        {
          "output_type": "execute_result",
          "data": {
            "text/plain": [
              "   Num Control           Carrera  Semestre Inscripción  Id Persona\n",
              "3     WiVaLó04  Ing. en sistemas         2  2016-12-03           4\n",
              "9     BePaNa10  Ing. en sistemas         9  2018-05-15          10\n",
              "21    ArLaOc22  Ing. en sistemas         1  2015-12-17          22\n",
              "24    JaSoAy25  Ing. en sistemas         2  2018-05-21          25\n",
              "26    DoAlVi27  Ing. en sistemas         4  2016-05-16          27\n",
              "31    JuNúHi32  Ing. en sistemas         4  2016-05-22          32\n",
              "45    TeLaKa46  Ing. en sistemas         4  2017-12-20          46\n",
              "55    ViSaDu56  Ing. en sistemas         1  2017-12-22          56\n",
              "73    LiToVe74  Ing. en sistemas         8  2015-12-12          74\n",
              "82    FrViVa83  Ing. en sistemas         4  2016-12-12          83\n",
              "89    LuÁvAl90  Ing. en sistemas         6  2017-12-19          90\n",
              "91    FéVaRo92  Ing. en sistemas         6  2018-05-02          92\n",
              "93    ArMuNi94  Ing. en sistemas        10  2015-05-07          94"
            ],
            "text/html": [
              "\n",
              "  <div id=\"df-205bfc6c-0bf3-4e80-8126-185d6e79e350\" class=\"colab-df-container\">\n",
              "    <div>\n",
              "<style scoped>\n",
              "    .dataframe tbody tr th:only-of-type {\n",
              "        vertical-align: middle;\n",
              "    }\n",
              "\n",
              "    .dataframe tbody tr th {\n",
              "        vertical-align: top;\n",
              "    }\n",
              "\n",
              "    .dataframe thead th {\n",
              "        text-align: right;\n",
              "    }\n",
              "</style>\n",
              "<table border=\"1\" class=\"dataframe\">\n",
              "  <thead>\n",
              "    <tr style=\"text-align: right;\">\n",
              "      <th></th>\n",
              "      <th>Num Control</th>\n",
              "      <th>Carrera</th>\n",
              "      <th>Semestre</th>\n",
              "      <th>Inscripción</th>\n",
              "      <th>Id Persona</th>\n",
              "    </tr>\n",
              "  </thead>\n",
              "  <tbody>\n",
              "    <tr>\n",
              "      <th>3</th>\n",
              "      <td>WiVaLó04</td>\n",
              "      <td>Ing. en sistemas</td>\n",
              "      <td>2</td>\n",
              "      <td>2016-12-03</td>\n",
              "      <td>4</td>\n",
              "    </tr>\n",
              "    <tr>\n",
              "      <th>9</th>\n",
              "      <td>BePaNa10</td>\n",
              "      <td>Ing. en sistemas</td>\n",
              "      <td>9</td>\n",
              "      <td>2018-05-15</td>\n",
              "      <td>10</td>\n",
              "    </tr>\n",
              "    <tr>\n",
              "      <th>21</th>\n",
              "      <td>ArLaOc22</td>\n",
              "      <td>Ing. en sistemas</td>\n",
              "      <td>1</td>\n",
              "      <td>2015-12-17</td>\n",
              "      <td>22</td>\n",
              "    </tr>\n",
              "    <tr>\n",
              "      <th>24</th>\n",
              "      <td>JaSoAy25</td>\n",
              "      <td>Ing. en sistemas</td>\n",
              "      <td>2</td>\n",
              "      <td>2018-05-21</td>\n",
              "      <td>25</td>\n",
              "    </tr>\n",
              "    <tr>\n",
              "      <th>26</th>\n",
              "      <td>DoAlVi27</td>\n",
              "      <td>Ing. en sistemas</td>\n",
              "      <td>4</td>\n",
              "      <td>2016-05-16</td>\n",
              "      <td>27</td>\n",
              "    </tr>\n",
              "    <tr>\n",
              "      <th>31</th>\n",
              "      <td>JuNúHi32</td>\n",
              "      <td>Ing. en sistemas</td>\n",
              "      <td>4</td>\n",
              "      <td>2016-05-22</td>\n",
              "      <td>32</td>\n",
              "    </tr>\n",
              "    <tr>\n",
              "      <th>45</th>\n",
              "      <td>TeLaKa46</td>\n",
              "      <td>Ing. en sistemas</td>\n",
              "      <td>4</td>\n",
              "      <td>2017-12-20</td>\n",
              "      <td>46</td>\n",
              "    </tr>\n",
              "    <tr>\n",
              "      <th>55</th>\n",
              "      <td>ViSaDu56</td>\n",
              "      <td>Ing. en sistemas</td>\n",
              "      <td>1</td>\n",
              "      <td>2017-12-22</td>\n",
              "      <td>56</td>\n",
              "    </tr>\n",
              "    <tr>\n",
              "      <th>73</th>\n",
              "      <td>LiToVe74</td>\n",
              "      <td>Ing. en sistemas</td>\n",
              "      <td>8</td>\n",
              "      <td>2015-12-12</td>\n",
              "      <td>74</td>\n",
              "    </tr>\n",
              "    <tr>\n",
              "      <th>82</th>\n",
              "      <td>FrViVa83</td>\n",
              "      <td>Ing. en sistemas</td>\n",
              "      <td>4</td>\n",
              "      <td>2016-12-12</td>\n",
              "      <td>83</td>\n",
              "    </tr>\n",
              "    <tr>\n",
              "      <th>89</th>\n",
              "      <td>LuÁvAl90</td>\n",
              "      <td>Ing. en sistemas</td>\n",
              "      <td>6</td>\n",
              "      <td>2017-12-19</td>\n",
              "      <td>90</td>\n",
              "    </tr>\n",
              "    <tr>\n",
              "      <th>91</th>\n",
              "      <td>FéVaRo92</td>\n",
              "      <td>Ing. en sistemas</td>\n",
              "      <td>6</td>\n",
              "      <td>2018-05-02</td>\n",
              "      <td>92</td>\n",
              "    </tr>\n",
              "    <tr>\n",
              "      <th>93</th>\n",
              "      <td>ArMuNi94</td>\n",
              "      <td>Ing. en sistemas</td>\n",
              "      <td>10</td>\n",
              "      <td>2015-05-07</td>\n",
              "      <td>94</td>\n",
              "    </tr>\n",
              "  </tbody>\n",
              "</table>\n",
              "</div>\n",
              "    <div class=\"colab-df-buttons\">\n",
              "\n",
              "  <div class=\"colab-df-container\">\n",
              "    <button class=\"colab-df-convert\" onclick=\"convertToInteractive('df-205bfc6c-0bf3-4e80-8126-185d6e79e350')\"\n",
              "            title=\"Convert this dataframe to an interactive table.\"\n",
              "            style=\"display:none;\">\n",
              "\n",
              "  <svg xmlns=\"http://www.w3.org/2000/svg\" height=\"24px\" viewBox=\"0 -960 960 960\">\n",
              "    <path d=\"M120-120v-720h720v720H120Zm60-500h600v-160H180v160Zm220 220h160v-160H400v160Zm0 220h160v-160H400v160ZM180-400h160v-160H180v160Zm440 0h160v-160H620v160ZM180-180h160v-160H180v160Zm440 0h160v-160H620v160Z\"/>\n",
              "  </svg>\n",
              "    </button>\n",
              "\n",
              "  <style>\n",
              "    .colab-df-container {\n",
              "      display:flex;\n",
              "      gap: 12px;\n",
              "    }\n",
              "\n",
              "    .colab-df-convert {\n",
              "      background-color: #E8F0FE;\n",
              "      border: none;\n",
              "      border-radius: 50%;\n",
              "      cursor: pointer;\n",
              "      display: none;\n",
              "      fill: #1967D2;\n",
              "      height: 32px;\n",
              "      padding: 0 0 0 0;\n",
              "      width: 32px;\n",
              "    }\n",
              "\n",
              "    .colab-df-convert:hover {\n",
              "      background-color: #E2EBFA;\n",
              "      box-shadow: 0px 1px 2px rgba(60, 64, 67, 0.3), 0px 1px 3px 1px rgba(60, 64, 67, 0.15);\n",
              "      fill: #174EA6;\n",
              "    }\n",
              "\n",
              "    .colab-df-buttons div {\n",
              "      margin-bottom: 4px;\n",
              "    }\n",
              "\n",
              "    [theme=dark] .colab-df-convert {\n",
              "      background-color: #3B4455;\n",
              "      fill: #D2E3FC;\n",
              "    }\n",
              "\n",
              "    [theme=dark] .colab-df-convert:hover {\n",
              "      background-color: #434B5C;\n",
              "      box-shadow: 0px 1px 3px 1px rgba(0, 0, 0, 0.15);\n",
              "      filter: drop-shadow(0px 1px 2px rgba(0, 0, 0, 0.3));\n",
              "      fill: #FFFFFF;\n",
              "    }\n",
              "  </style>\n",
              "\n",
              "    <script>\n",
              "      const buttonEl =\n",
              "        document.querySelector('#df-205bfc6c-0bf3-4e80-8126-185d6e79e350 button.colab-df-convert');\n",
              "      buttonEl.style.display =\n",
              "        google.colab.kernel.accessAllowed ? 'block' : 'none';\n",
              "\n",
              "      async function convertToInteractive(key) {\n",
              "        const element = document.querySelector('#df-205bfc6c-0bf3-4e80-8126-185d6e79e350');\n",
              "        const dataTable =\n",
              "          await google.colab.kernel.invokeFunction('convertToInteractive',\n",
              "                                                    [key], {});\n",
              "        if (!dataTable) return;\n",
              "\n",
              "        const docLinkHtml = 'Like what you see? Visit the ' +\n",
              "          '<a target=\"_blank\" href=https://colab.research.google.com/notebooks/data_table.ipynb>data table notebook</a>'\n",
              "          + ' to learn more about interactive tables.';\n",
              "        element.innerHTML = '';\n",
              "        dataTable['output_type'] = 'display_data';\n",
              "        await google.colab.output.renderOutput(dataTable, element);\n",
              "        const docLink = document.createElement('div');\n",
              "        docLink.innerHTML = docLinkHtml;\n",
              "        element.appendChild(docLink);\n",
              "      }\n",
              "    </script>\n",
              "  </div>\n",
              "\n",
              "\n",
              "    <div id=\"df-25455d27-f985-45e6-b80d-baa9a134a159\">\n",
              "      <button class=\"colab-df-quickchart\" onclick=\"quickchart('df-25455d27-f985-45e6-b80d-baa9a134a159')\"\n",
              "                title=\"Suggest charts\"\n",
              "                style=\"display:none;\">\n",
              "\n",
              "<svg xmlns=\"http://www.w3.org/2000/svg\" height=\"24px\"viewBox=\"0 0 24 24\"\n",
              "     width=\"24px\">\n",
              "    <g>\n",
              "        <path d=\"M19 3H5c-1.1 0-2 .9-2 2v14c0 1.1.9 2 2 2h14c1.1 0 2-.9 2-2V5c0-1.1-.9-2-2-2zM9 17H7v-7h2v7zm4 0h-2V7h2v10zm4 0h-2v-4h2v4z\"/>\n",
              "    </g>\n",
              "</svg>\n",
              "      </button>\n",
              "\n",
              "<style>\n",
              "  .colab-df-quickchart {\n",
              "      --bg-color: #E8F0FE;\n",
              "      --fill-color: #1967D2;\n",
              "      --hover-bg-color: #E2EBFA;\n",
              "      --hover-fill-color: #174EA6;\n",
              "      --disabled-fill-color: #AAA;\n",
              "      --disabled-bg-color: #DDD;\n",
              "  }\n",
              "\n",
              "  [theme=dark] .colab-df-quickchart {\n",
              "      --bg-color: #3B4455;\n",
              "      --fill-color: #D2E3FC;\n",
              "      --hover-bg-color: #434B5C;\n",
              "      --hover-fill-color: #FFFFFF;\n",
              "      --disabled-bg-color: #3B4455;\n",
              "      --disabled-fill-color: #666;\n",
              "  }\n",
              "\n",
              "  .colab-df-quickchart {\n",
              "    background-color: var(--bg-color);\n",
              "    border: none;\n",
              "    border-radius: 50%;\n",
              "    cursor: pointer;\n",
              "    display: none;\n",
              "    fill: var(--fill-color);\n",
              "    height: 32px;\n",
              "    padding: 0;\n",
              "    width: 32px;\n",
              "  }\n",
              "\n",
              "  .colab-df-quickchart:hover {\n",
              "    background-color: var(--hover-bg-color);\n",
              "    box-shadow: 0 1px 2px rgba(60, 64, 67, 0.3), 0 1px 3px 1px rgba(60, 64, 67, 0.15);\n",
              "    fill: var(--button-hover-fill-color);\n",
              "  }\n",
              "\n",
              "  .colab-df-quickchart-complete:disabled,\n",
              "  .colab-df-quickchart-complete:disabled:hover {\n",
              "    background-color: var(--disabled-bg-color);\n",
              "    fill: var(--disabled-fill-color);\n",
              "    box-shadow: none;\n",
              "  }\n",
              "\n",
              "  .colab-df-spinner {\n",
              "    border: 2px solid var(--fill-color);\n",
              "    border-color: transparent;\n",
              "    border-bottom-color: var(--fill-color);\n",
              "    animation:\n",
              "      spin 1s steps(1) infinite;\n",
              "  }\n",
              "\n",
              "  @keyframes spin {\n",
              "    0% {\n",
              "      border-color: transparent;\n",
              "      border-bottom-color: var(--fill-color);\n",
              "      border-left-color: var(--fill-color);\n",
              "    }\n",
              "    20% {\n",
              "      border-color: transparent;\n",
              "      border-left-color: var(--fill-color);\n",
              "      border-top-color: var(--fill-color);\n",
              "    }\n",
              "    30% {\n",
              "      border-color: transparent;\n",
              "      border-left-color: var(--fill-color);\n",
              "      border-top-color: var(--fill-color);\n",
              "      border-right-color: var(--fill-color);\n",
              "    }\n",
              "    40% {\n",
              "      border-color: transparent;\n",
              "      border-right-color: var(--fill-color);\n",
              "      border-top-color: var(--fill-color);\n",
              "    }\n",
              "    60% {\n",
              "      border-color: transparent;\n",
              "      border-right-color: var(--fill-color);\n",
              "    }\n",
              "    80% {\n",
              "      border-color: transparent;\n",
              "      border-right-color: var(--fill-color);\n",
              "      border-bottom-color: var(--fill-color);\n",
              "    }\n",
              "    90% {\n",
              "      border-color: transparent;\n",
              "      border-bottom-color: var(--fill-color);\n",
              "    }\n",
              "  }\n",
              "</style>\n",
              "\n",
              "      <script>\n",
              "        async function quickchart(key) {\n",
              "          const quickchartButtonEl =\n",
              "            document.querySelector('#' + key + ' button');\n",
              "          quickchartButtonEl.disabled = true;  // To prevent multiple clicks.\n",
              "          quickchartButtonEl.classList.add('colab-df-spinner');\n",
              "          try {\n",
              "            const charts = await google.colab.kernel.invokeFunction(\n",
              "                'suggestCharts', [key], {});\n",
              "          } catch (error) {\n",
              "            console.error('Error during call to suggestCharts:', error);\n",
              "          }\n",
              "          quickchartButtonEl.classList.remove('colab-df-spinner');\n",
              "          quickchartButtonEl.classList.add('colab-df-quickchart-complete');\n",
              "        }\n",
              "        (() => {\n",
              "          let quickchartButtonEl =\n",
              "            document.querySelector('#df-25455d27-f985-45e6-b80d-baa9a134a159 button');\n",
              "          quickchartButtonEl.style.display =\n",
              "            google.colab.kernel.accessAllowed ? 'block' : 'none';\n",
              "        })();\n",
              "      </script>\n",
              "    </div>\n",
              "\n",
              "    </div>\n",
              "  </div>\n"
            ],
            "application/vnd.google.colaboratory.intrinsic+json": {
              "type": "dataframe",
              "summary": "{\n  \"name\": \"df[df['Carrera'] == 'Ing\",\n  \"rows\": 13,\n  \"fields\": [\n    {\n      \"column\": \"Num Control\",\n      \"properties\": {\n        \"dtype\": \"string\",\n        \"num_unique_values\": 13,\n        \"samples\": [\n          \"F\\u00e9VaRo92\",\n          \"FrViVa83\",\n          \"WiVaL\\u00f304\"\n        ],\n        \"semantic_type\": \"\",\n        \"description\": \"\"\n      }\n    },\n    {\n      \"column\": \"Carrera\",\n      \"properties\": {\n        \"dtype\": \"category\",\n        \"num_unique_values\": 1,\n        \"samples\": [\n          \"Ing. en sistemas\"\n        ],\n        \"semantic_type\": \"\",\n        \"description\": \"\"\n      }\n    },\n    {\n      \"column\": \"Semestre\",\n      \"properties\": {\n        \"dtype\": \"number\",\n        \"std\": 2,\n        \"min\": 1,\n        \"max\": 10,\n        \"num_unique_values\": 7,\n        \"samples\": [\n          2\n        ],\n        \"semantic_type\": \"\",\n        \"description\": \"\"\n      }\n    },\n    {\n      \"column\": \"Inscripci\\u00f3n\",\n      \"properties\": {\n        \"dtype\": \"date\",\n        \"min\": \"2015-05-07 00:00:00\",\n        \"max\": \"2018-05-21 00:00:00\",\n        \"num_unique_values\": 13,\n        \"samples\": [\n          \"2018-05-02 00:00:00\"\n        ],\n        \"semantic_type\": \"\",\n        \"description\": \"\"\n      }\n    },\n    {\n      \"column\": \"Id Persona\",\n      \"properties\": {\n        \"dtype\": \"number\",\n        \"std\": 32,\n        \"min\": 4,\n        \"max\": 94,\n        \"num_unique_values\": 13,\n        \"samples\": [\n          92\n        ],\n        \"semantic_type\": \"\",\n        \"description\": \"\"\n      }\n    }\n  ]\n}"
            }
          },
          "metadata": {},
          "execution_count": 111
        }
      ]
    },
    {
      "cell_type": "code",
      "source": [
        "#Indicar cuantos son de la carrera de Ing. en derecho(Lic. en derecho)\n",
        "df[df['Carrera'] == 'Lic. en derecho']"
      ],
      "metadata": {
        "id": "OHu5Hrqss6vA",
        "colab": {
          "base_uri": "https://localhost:8080/",
          "height": 582
        },
        "outputId": "161399c2-c0e0-44ac-8e4b-117a91dd3b36"
      },
      "execution_count": null,
      "outputs": [
        {
          "output_type": "execute_result",
          "data": {
            "text/plain": [
              "   Num Control          Carrera  Semestre Inscripción  Id Persona\n",
              "2     MaFeNú03  Lic. en derecho         6  2015-05-09           3\n",
              "7     JaAgEs08  Lic. en derecho         7  2018-12-12           8\n",
              "12    RaBeBu13  Lic. en derecho        10  2017-05-21          13\n",
              "14    DeRuTr15  Lic. en derecho         8  2017-12-25          15\n",
              "17    MaGaBe18  Lic. en derecho         1  2018-12-02          18\n",
              "25    AsPoLa26  Lic. en derecho         6  2016-05-15          26\n",
              "32    LiMáSa33  Lic. en derecho         5  2018-12-01          33\n",
              "33    ÁlPrLi34  Lic. en derecho         2  2017-05-02          34\n",
              "47    SeVaSa48  Lic. en derecho         6  2016-05-09          48\n",
              "49    MoVaGa50  Lic. en derecho         7  2018-12-17          50\n",
              "50    AdSaCa51  Lic. en derecho         3  2015-12-07          51\n",
              "56    LaFeVe57  Lic. en derecho         7  2018-05-16          57\n",
              "60    DiQuPa61  Lic. en derecho         9  2018-12-14          61\n",
              "84    FéRiLa85  Lic. en derecho         4  2015-05-28          85\n",
              "85    ClArVe86  Lic. en derecho         3  2017-05-09          86\n",
              "88    GeLaVa89  Lic. en derecho         5  2015-05-25          89\n",
              "96    MaRaRí97  Lic. en derecho         7  2016-12-28          97"
            ],
            "text/html": [
              "\n",
              "  <div id=\"df-4c95e7f2-bf66-48c3-8ec3-1259cc74c358\" class=\"colab-df-container\">\n",
              "    <div>\n",
              "<style scoped>\n",
              "    .dataframe tbody tr th:only-of-type {\n",
              "        vertical-align: middle;\n",
              "    }\n",
              "\n",
              "    .dataframe tbody tr th {\n",
              "        vertical-align: top;\n",
              "    }\n",
              "\n",
              "    .dataframe thead th {\n",
              "        text-align: right;\n",
              "    }\n",
              "</style>\n",
              "<table border=\"1\" class=\"dataframe\">\n",
              "  <thead>\n",
              "    <tr style=\"text-align: right;\">\n",
              "      <th></th>\n",
              "      <th>Num Control</th>\n",
              "      <th>Carrera</th>\n",
              "      <th>Semestre</th>\n",
              "      <th>Inscripción</th>\n",
              "      <th>Id Persona</th>\n",
              "    </tr>\n",
              "  </thead>\n",
              "  <tbody>\n",
              "    <tr>\n",
              "      <th>2</th>\n",
              "      <td>MaFeNú03</td>\n",
              "      <td>Lic. en derecho</td>\n",
              "      <td>6</td>\n",
              "      <td>2015-05-09</td>\n",
              "      <td>3</td>\n",
              "    </tr>\n",
              "    <tr>\n",
              "      <th>7</th>\n",
              "      <td>JaAgEs08</td>\n",
              "      <td>Lic. en derecho</td>\n",
              "      <td>7</td>\n",
              "      <td>2018-12-12</td>\n",
              "      <td>8</td>\n",
              "    </tr>\n",
              "    <tr>\n",
              "      <th>12</th>\n",
              "      <td>RaBeBu13</td>\n",
              "      <td>Lic. en derecho</td>\n",
              "      <td>10</td>\n",
              "      <td>2017-05-21</td>\n",
              "      <td>13</td>\n",
              "    </tr>\n",
              "    <tr>\n",
              "      <th>14</th>\n",
              "      <td>DeRuTr15</td>\n",
              "      <td>Lic. en derecho</td>\n",
              "      <td>8</td>\n",
              "      <td>2017-12-25</td>\n",
              "      <td>15</td>\n",
              "    </tr>\n",
              "    <tr>\n",
              "      <th>17</th>\n",
              "      <td>MaGaBe18</td>\n",
              "      <td>Lic. en derecho</td>\n",
              "      <td>1</td>\n",
              "      <td>2018-12-02</td>\n",
              "      <td>18</td>\n",
              "    </tr>\n",
              "    <tr>\n",
              "      <th>25</th>\n",
              "      <td>AsPoLa26</td>\n",
              "      <td>Lic. en derecho</td>\n",
              "      <td>6</td>\n",
              "      <td>2016-05-15</td>\n",
              "      <td>26</td>\n",
              "    </tr>\n",
              "    <tr>\n",
              "      <th>32</th>\n",
              "      <td>LiMáSa33</td>\n",
              "      <td>Lic. en derecho</td>\n",
              "      <td>5</td>\n",
              "      <td>2018-12-01</td>\n",
              "      <td>33</td>\n",
              "    </tr>\n",
              "    <tr>\n",
              "      <th>33</th>\n",
              "      <td>ÁlPrLi34</td>\n",
              "      <td>Lic. en derecho</td>\n",
              "      <td>2</td>\n",
              "      <td>2017-05-02</td>\n",
              "      <td>34</td>\n",
              "    </tr>\n",
              "    <tr>\n",
              "      <th>47</th>\n",
              "      <td>SeVaSa48</td>\n",
              "      <td>Lic. en derecho</td>\n",
              "      <td>6</td>\n",
              "      <td>2016-05-09</td>\n",
              "      <td>48</td>\n",
              "    </tr>\n",
              "    <tr>\n",
              "      <th>49</th>\n",
              "      <td>MoVaGa50</td>\n",
              "      <td>Lic. en derecho</td>\n",
              "      <td>7</td>\n",
              "      <td>2018-12-17</td>\n",
              "      <td>50</td>\n",
              "    </tr>\n",
              "    <tr>\n",
              "      <th>50</th>\n",
              "      <td>AdSaCa51</td>\n",
              "      <td>Lic. en derecho</td>\n",
              "      <td>3</td>\n",
              "      <td>2015-12-07</td>\n",
              "      <td>51</td>\n",
              "    </tr>\n",
              "    <tr>\n",
              "      <th>56</th>\n",
              "      <td>LaFeVe57</td>\n",
              "      <td>Lic. en derecho</td>\n",
              "      <td>7</td>\n",
              "      <td>2018-05-16</td>\n",
              "      <td>57</td>\n",
              "    </tr>\n",
              "    <tr>\n",
              "      <th>60</th>\n",
              "      <td>DiQuPa61</td>\n",
              "      <td>Lic. en derecho</td>\n",
              "      <td>9</td>\n",
              "      <td>2018-12-14</td>\n",
              "      <td>61</td>\n",
              "    </tr>\n",
              "    <tr>\n",
              "      <th>84</th>\n",
              "      <td>FéRiLa85</td>\n",
              "      <td>Lic. en derecho</td>\n",
              "      <td>4</td>\n",
              "      <td>2015-05-28</td>\n",
              "      <td>85</td>\n",
              "    </tr>\n",
              "    <tr>\n",
              "      <th>85</th>\n",
              "      <td>ClArVe86</td>\n",
              "      <td>Lic. en derecho</td>\n",
              "      <td>3</td>\n",
              "      <td>2017-05-09</td>\n",
              "      <td>86</td>\n",
              "    </tr>\n",
              "    <tr>\n",
              "      <th>88</th>\n",
              "      <td>GeLaVa89</td>\n",
              "      <td>Lic. en derecho</td>\n",
              "      <td>5</td>\n",
              "      <td>2015-05-25</td>\n",
              "      <td>89</td>\n",
              "    </tr>\n",
              "    <tr>\n",
              "      <th>96</th>\n",
              "      <td>MaRaRí97</td>\n",
              "      <td>Lic. en derecho</td>\n",
              "      <td>7</td>\n",
              "      <td>2016-12-28</td>\n",
              "      <td>97</td>\n",
              "    </tr>\n",
              "  </tbody>\n",
              "</table>\n",
              "</div>\n",
              "    <div class=\"colab-df-buttons\">\n",
              "\n",
              "  <div class=\"colab-df-container\">\n",
              "    <button class=\"colab-df-convert\" onclick=\"convertToInteractive('df-4c95e7f2-bf66-48c3-8ec3-1259cc74c358')\"\n",
              "            title=\"Convert this dataframe to an interactive table.\"\n",
              "            style=\"display:none;\">\n",
              "\n",
              "  <svg xmlns=\"http://www.w3.org/2000/svg\" height=\"24px\" viewBox=\"0 -960 960 960\">\n",
              "    <path d=\"M120-120v-720h720v720H120Zm60-500h600v-160H180v160Zm220 220h160v-160H400v160Zm0 220h160v-160H400v160ZM180-400h160v-160H180v160Zm440 0h160v-160H620v160ZM180-180h160v-160H180v160Zm440 0h160v-160H620v160Z\"/>\n",
              "  </svg>\n",
              "    </button>\n",
              "\n",
              "  <style>\n",
              "    .colab-df-container {\n",
              "      display:flex;\n",
              "      gap: 12px;\n",
              "    }\n",
              "\n",
              "    .colab-df-convert {\n",
              "      background-color: #E8F0FE;\n",
              "      border: none;\n",
              "      border-radius: 50%;\n",
              "      cursor: pointer;\n",
              "      display: none;\n",
              "      fill: #1967D2;\n",
              "      height: 32px;\n",
              "      padding: 0 0 0 0;\n",
              "      width: 32px;\n",
              "    }\n",
              "\n",
              "    .colab-df-convert:hover {\n",
              "      background-color: #E2EBFA;\n",
              "      box-shadow: 0px 1px 2px rgba(60, 64, 67, 0.3), 0px 1px 3px 1px rgba(60, 64, 67, 0.15);\n",
              "      fill: #174EA6;\n",
              "    }\n",
              "\n",
              "    .colab-df-buttons div {\n",
              "      margin-bottom: 4px;\n",
              "    }\n",
              "\n",
              "    [theme=dark] .colab-df-convert {\n",
              "      background-color: #3B4455;\n",
              "      fill: #D2E3FC;\n",
              "    }\n",
              "\n",
              "    [theme=dark] .colab-df-convert:hover {\n",
              "      background-color: #434B5C;\n",
              "      box-shadow: 0px 1px 3px 1px rgba(0, 0, 0, 0.15);\n",
              "      filter: drop-shadow(0px 1px 2px rgba(0, 0, 0, 0.3));\n",
              "      fill: #FFFFFF;\n",
              "    }\n",
              "  </style>\n",
              "\n",
              "    <script>\n",
              "      const buttonEl =\n",
              "        document.querySelector('#df-4c95e7f2-bf66-48c3-8ec3-1259cc74c358 button.colab-df-convert');\n",
              "      buttonEl.style.display =\n",
              "        google.colab.kernel.accessAllowed ? 'block' : 'none';\n",
              "\n",
              "      async function convertToInteractive(key) {\n",
              "        const element = document.querySelector('#df-4c95e7f2-bf66-48c3-8ec3-1259cc74c358');\n",
              "        const dataTable =\n",
              "          await google.colab.kernel.invokeFunction('convertToInteractive',\n",
              "                                                    [key], {});\n",
              "        if (!dataTable) return;\n",
              "\n",
              "        const docLinkHtml = 'Like what you see? Visit the ' +\n",
              "          '<a target=\"_blank\" href=https://colab.research.google.com/notebooks/data_table.ipynb>data table notebook</a>'\n",
              "          + ' to learn more about interactive tables.';\n",
              "        element.innerHTML = '';\n",
              "        dataTable['output_type'] = 'display_data';\n",
              "        await google.colab.output.renderOutput(dataTable, element);\n",
              "        const docLink = document.createElement('div');\n",
              "        docLink.innerHTML = docLinkHtml;\n",
              "        element.appendChild(docLink);\n",
              "      }\n",
              "    </script>\n",
              "  </div>\n",
              "\n",
              "\n",
              "    <div id=\"df-26491351-1206-4ca2-a4a5-d022bd49e43a\">\n",
              "      <button class=\"colab-df-quickchart\" onclick=\"quickchart('df-26491351-1206-4ca2-a4a5-d022bd49e43a')\"\n",
              "                title=\"Suggest charts\"\n",
              "                style=\"display:none;\">\n",
              "\n",
              "<svg xmlns=\"http://www.w3.org/2000/svg\" height=\"24px\"viewBox=\"0 0 24 24\"\n",
              "     width=\"24px\">\n",
              "    <g>\n",
              "        <path d=\"M19 3H5c-1.1 0-2 .9-2 2v14c0 1.1.9 2 2 2h14c1.1 0 2-.9 2-2V5c0-1.1-.9-2-2-2zM9 17H7v-7h2v7zm4 0h-2V7h2v10zm4 0h-2v-4h2v4z\"/>\n",
              "    </g>\n",
              "</svg>\n",
              "      </button>\n",
              "\n",
              "<style>\n",
              "  .colab-df-quickchart {\n",
              "      --bg-color: #E8F0FE;\n",
              "      --fill-color: #1967D2;\n",
              "      --hover-bg-color: #E2EBFA;\n",
              "      --hover-fill-color: #174EA6;\n",
              "      --disabled-fill-color: #AAA;\n",
              "      --disabled-bg-color: #DDD;\n",
              "  }\n",
              "\n",
              "  [theme=dark] .colab-df-quickchart {\n",
              "      --bg-color: #3B4455;\n",
              "      --fill-color: #D2E3FC;\n",
              "      --hover-bg-color: #434B5C;\n",
              "      --hover-fill-color: #FFFFFF;\n",
              "      --disabled-bg-color: #3B4455;\n",
              "      --disabled-fill-color: #666;\n",
              "  }\n",
              "\n",
              "  .colab-df-quickchart {\n",
              "    background-color: var(--bg-color);\n",
              "    border: none;\n",
              "    border-radius: 50%;\n",
              "    cursor: pointer;\n",
              "    display: none;\n",
              "    fill: var(--fill-color);\n",
              "    height: 32px;\n",
              "    padding: 0;\n",
              "    width: 32px;\n",
              "  }\n",
              "\n",
              "  .colab-df-quickchart:hover {\n",
              "    background-color: var(--hover-bg-color);\n",
              "    box-shadow: 0 1px 2px rgba(60, 64, 67, 0.3), 0 1px 3px 1px rgba(60, 64, 67, 0.15);\n",
              "    fill: var(--button-hover-fill-color);\n",
              "  }\n",
              "\n",
              "  .colab-df-quickchart-complete:disabled,\n",
              "  .colab-df-quickchart-complete:disabled:hover {\n",
              "    background-color: var(--disabled-bg-color);\n",
              "    fill: var(--disabled-fill-color);\n",
              "    box-shadow: none;\n",
              "  }\n",
              "\n",
              "  .colab-df-spinner {\n",
              "    border: 2px solid var(--fill-color);\n",
              "    border-color: transparent;\n",
              "    border-bottom-color: var(--fill-color);\n",
              "    animation:\n",
              "      spin 1s steps(1) infinite;\n",
              "  }\n",
              "\n",
              "  @keyframes spin {\n",
              "    0% {\n",
              "      border-color: transparent;\n",
              "      border-bottom-color: var(--fill-color);\n",
              "      border-left-color: var(--fill-color);\n",
              "    }\n",
              "    20% {\n",
              "      border-color: transparent;\n",
              "      border-left-color: var(--fill-color);\n",
              "      border-top-color: var(--fill-color);\n",
              "    }\n",
              "    30% {\n",
              "      border-color: transparent;\n",
              "      border-left-color: var(--fill-color);\n",
              "      border-top-color: var(--fill-color);\n",
              "      border-right-color: var(--fill-color);\n",
              "    }\n",
              "    40% {\n",
              "      border-color: transparent;\n",
              "      border-right-color: var(--fill-color);\n",
              "      border-top-color: var(--fill-color);\n",
              "    }\n",
              "    60% {\n",
              "      border-color: transparent;\n",
              "      border-right-color: var(--fill-color);\n",
              "    }\n",
              "    80% {\n",
              "      border-color: transparent;\n",
              "      border-right-color: var(--fill-color);\n",
              "      border-bottom-color: var(--fill-color);\n",
              "    }\n",
              "    90% {\n",
              "      border-color: transparent;\n",
              "      border-bottom-color: var(--fill-color);\n",
              "    }\n",
              "  }\n",
              "</style>\n",
              "\n",
              "      <script>\n",
              "        async function quickchart(key) {\n",
              "          const quickchartButtonEl =\n",
              "            document.querySelector('#' + key + ' button');\n",
              "          quickchartButtonEl.disabled = true;  // To prevent multiple clicks.\n",
              "          quickchartButtonEl.classList.add('colab-df-spinner');\n",
              "          try {\n",
              "            const charts = await google.colab.kernel.invokeFunction(\n",
              "                'suggestCharts', [key], {});\n",
              "          } catch (error) {\n",
              "            console.error('Error during call to suggestCharts:', error);\n",
              "          }\n",
              "          quickchartButtonEl.classList.remove('colab-df-spinner');\n",
              "          quickchartButtonEl.classList.add('colab-df-quickchart-complete');\n",
              "        }\n",
              "        (() => {\n",
              "          let quickchartButtonEl =\n",
              "            document.querySelector('#df-26491351-1206-4ca2-a4a5-d022bd49e43a button');\n",
              "          quickchartButtonEl.style.display =\n",
              "            google.colab.kernel.accessAllowed ? 'block' : 'none';\n",
              "        })();\n",
              "      </script>\n",
              "    </div>\n",
              "\n",
              "    </div>\n",
              "  </div>\n"
            ],
            "application/vnd.google.colaboratory.intrinsic+json": {
              "type": "dataframe",
              "summary": "{\n  \"name\": \"df[df['Carrera'] == 'Lic\",\n  \"rows\": 17,\n  \"fields\": [\n    {\n      \"column\": \"Num Control\",\n      \"properties\": {\n        \"dtype\": \"string\",\n        \"num_unique_values\": 17,\n        \"samples\": [\n          \"MaFeN\\u00fa03\",\n          \"JaAgEs08\",\n          \"AsPoLa26\"\n        ],\n        \"semantic_type\": \"\",\n        \"description\": \"\"\n      }\n    },\n    {\n      \"column\": \"Carrera\",\n      \"properties\": {\n        \"dtype\": \"category\",\n        \"num_unique_values\": 1,\n        \"samples\": [\n          \"Lic. en derecho\"\n        ],\n        \"semantic_type\": \"\",\n        \"description\": \"\"\n      }\n    },\n    {\n      \"column\": \"Semestre\",\n      \"properties\": {\n        \"dtype\": \"number\",\n        \"std\": 2,\n        \"min\": 1,\n        \"max\": 10,\n        \"num_unique_values\": 10,\n        \"samples\": [\n          9\n        ],\n        \"semantic_type\": \"\",\n        \"description\": \"\"\n      }\n    },\n    {\n      \"column\": \"Inscripci\\u00f3n\",\n      \"properties\": {\n        \"dtype\": \"date\",\n        \"min\": \"2015-05-09 00:00:00\",\n        \"max\": \"2018-12-17 00:00:00\",\n        \"num_unique_values\": 17,\n        \"samples\": [\n          \"2015-05-09 00:00:00\"\n        ],\n        \"semantic_type\": \"\",\n        \"description\": \"\"\n      }\n    },\n    {\n      \"column\": \"Id Persona\",\n      \"properties\": {\n        \"dtype\": \"number\",\n        \"std\": 30,\n        \"min\": 3,\n        \"max\": 97,\n        \"num_unique_values\": 17,\n        \"samples\": [\n          3\n        ],\n        \"semantic_type\": \"\",\n        \"description\": \"\"\n      }\n    }\n  ]\n}"
            }
          },
          "metadata": {},
          "execution_count": 113
        }
      ]
    },
    {
      "cell_type": "code",
      "source": [
        "df['Inscripción'] = pd.to_datetime(df['Inscripción'])\n",
        "\n",
        "df_2015 = df[df['Inscripción'].dt.year == 2015]\n",
        "\n",
        "print(df_2015)"
      ],
      "metadata": {
        "id": "_COzs47Os634",
        "colab": {
          "base_uri": "https://localhost:8080/"
        },
        "outputId": "2ffd44af-96f5-4046-b78d-3e40b9e5926f"
      },
      "execution_count": null,
      "outputs": [
        {
          "output_type": "stream",
          "name": "stdout",
          "text": [
            "   Num Control              Carrera  Semestre Inscripción  Id Persona\n",
            "0     SeNeTe01  Lic. en nutriología         7  2015-05-20           1\n",
            "1     JeViPi02         Ing. química         8  2015-05-02           2\n",
            "2     MaFeNú03      Lic. en derecho         6  2015-05-09           3\n",
            "5     AlAlEs06         Ing. química         9  2015-12-18           6\n",
            "8     ClHeAr09  Lic. en nutriología         4  2015-05-01           9\n",
            "21    ArLaOc22     Ing. en sistemas         1  2015-12-17          22\n",
            "27    AnLuLl28    Lic. en pedagogía         4  2015-12-13          28\n",
            "30    BrCuOc31    Lic. en pedagogía         1  2015-05-06          31\n",
            "37    KlFuVi38     Ing. mecatrónica         9  2015-05-06          38\n",
            "44    GoRuSa45         Ing. química         8  2015-12-06          45\n",
            "50    AdSaCa51      Lic. en derecho         3  2015-12-07          51\n",
            "59    LiMeAc60  Lic. en nutriología         3  2015-05-06          60\n",
            "65    PaViLa66         Ing. química         8  2015-05-24          66\n",
            "73    LiToVe74     Ing. en sistemas         8  2015-12-12          74\n",
            "80    JoSeMa81    Lic. en pedagogía         3  2015-12-16          81\n",
            "81    EvCuBr82  Lic. en nutriología         7  2015-05-15          82\n",
            "84    FéRiLa85      Lic. en derecho         4  2015-05-28          85\n",
            "87    CaVeCr88     Ing. mecatrónica         7  2015-12-03          88\n",
            "88    GeLaVa89      Lic. en derecho         5  2015-05-25          89\n",
            "92    OrVeTr93  Lic. en nutriología         1  2015-05-03          93\n",
            "93    ArMuNi94     Ing. en sistemas        10  2015-05-07          94\n",
            "95    StPeRu96  Lic. en nutriología         2  2015-12-15          96\n",
            "97    NiBrPa98     Ing. mecatrónica         8  2015-05-14          98\n"
          ]
        }
      ]
    },
    {
      "cell_type": "code",
      "source": [
        "#Indicar cuantos son del 1 y 2 semestre\n",
        "df_semestre = df[df['Semestre'] == 1]\n",
        "print(df_semestre)"
      ],
      "metadata": {
        "id": "5iRJwnJzs6_Y",
        "colab": {
          "base_uri": "https://localhost:8080/"
        },
        "outputId": "a2e79035-0519-41c3-b627-b6401c87a135"
      },
      "execution_count": null,
      "outputs": [
        {
          "output_type": "stream",
          "name": "stdout",
          "text": [
            "   Num Control              Carrera  Semestre Inscripción  Id Persona\n",
            "6     SaMeSe07     Ing. mecatrónica         1  2018-12-02           7\n",
            "17    MaGaBe18      Lic. en derecho         1  2018-12-02          18\n",
            "21    ArLaOc22     Ing. en sistemas         1  2015-12-17          22\n",
            "30    BrCuOc31    Lic. en pedagogía         1  2015-05-06          31\n",
            "48    EuPrVi49         Ing. química         1  2016-05-13          49\n",
            "55    ViSaDu56     Ing. en sistemas         1  2017-12-22          56\n",
            "63    TeAlVa64     Ing. mecatrónica         1  2017-12-23          64\n",
            "69    LuAgPa70         Ing. química         1  2016-12-07          70\n",
            "75    IsRoVa76    Lic. en pedagogía         1  2018-05-27          76\n",
            "77    ArMeLa78         Ing. química         1  2017-05-22          78\n",
            "92    OrVeTr93  Lic. en nutriología         1  2015-05-03          93\n"
          ]
        }
      ]
    }
  ]
}